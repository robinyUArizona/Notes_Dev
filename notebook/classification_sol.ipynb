{
 "cells": [
  {
   "cell_type": "markdown",
   "metadata": {
    "id": "xNsf_XJnbG8D"
   },
   "source": [
    "# Predict Chronic Disease"
   ]
  },
  {
   "cell_type": "code",
   "execution_count": 1,
   "metadata": {
    "id": "roOSlk6-aDnk",
    "outputId": "b1bab84a-1914-4da9-ea7d-687f7c406b27"
   },
   "outputs": [
    {
     "name": "stdout",
     "output_type": "stream",
     "text": [
      "Requirement already satisfied: word2number in c:\\users\\admin\\anaconda3\\lib\\site-packages (1.1)\n",
      "Requirement already satisfied: lightgbm in c:\\users\\admin\\anaconda3\\lib\\site-packages (3.3.2)\n",
      "Requirement already satisfied: scipy in c:\\users\\admin\\anaconda3\\lib\\site-packages (from lightgbm) (1.6.2)\n",
      "Requirement already satisfied: scikit-learn!=0.22.0 in c:\\users\\admin\\anaconda3\\lib\\site-packages (from lightgbm) (1.0.1)\n",
      "Requirement already satisfied: wheel in c:\\users\\admin\\anaconda3\\lib\\site-packages (from lightgbm) (0.36.2)\n",
      "Requirement already satisfied: numpy in c:\\users\\admin\\anaconda3\\lib\\site-packages (from lightgbm) (1.20.1)\n",
      "Requirement already satisfied: threadpoolctl>=2.0.0 in c:\\users\\admin\\anaconda3\\lib\\site-packages (from scikit-learn!=0.22.0->lightgbm) (2.1.0)\n",
      "Requirement already satisfied: joblib>=0.11 in c:\\users\\admin\\anaconda3\\lib\\site-packages (from scikit-learn!=0.22.0->lightgbm) (1.0.1)\n"
     ]
    }
   ],
   "source": [
    "# If additional packages are needed but are not installed by default, uncomment the last two lines of this cell\n",
    "# and replace <package list> with a list of additional packages.\n",
    "# This will ensure the notebook has all the dependencies and works everywhere\n",
    "\n",
    "import sys\n",
    "!{sys.executable} -m pip install word2number lightgbm"
   ]
  },
  {
   "cell_type": "code",
   "execution_count": 2,
   "metadata": {
    "id": "fmWa0S0ZbYtx"
   },
   "outputs": [],
   "source": [
    "# Libraries\n",
    "import pandas as pd\n",
    "import numpy as np\n",
    "import sklearn\n",
    "\n",
    "from word2number import w2n\n",
    "\n",
    "from sklearn.preprocessing import LabelEncoder\n",
    "import lightgbm\n",
    "\n",
    "from sklearn.model_selection import KFold, GridSearchCV, train_test_split\n",
    "from sklearn.metrics import confusion_matrix, classification_report, accuracy_score\n",
    "\n",
    "pd.set_option(\"display.max_columns\", 101)\n",
    "pd.set_option('display.max_colwidth', 100)"
   ]
  },
  {
   "cell_type": "markdown",
   "metadata": {
    "id": "r8kqQ8h2eMJn"
   },
   "source": [
    "## Data Description"
   ]
  },
  {
   "cell_type": "markdown",
   "metadata": {
    "id": "MxXczpXMeNPO"
   },
   "source": [
    "Column | Description\n",
    ":---|:---\n",
    "`id` | Unique ID corresponding to the person\n",
    "`gender` | Gender of the person\n",
    "`age` | Age of the person\n",
    "`height_weight` | Height and weight of the person separated by a delimiter\n",
    "`family_history` | Whether the person has a family history of obesity\n",
    "`high_calorie_food` | Frequency of intake of high calorie food\n",
    "`vegetable_meals`  | Average frequency of intake of vegetables in meals over the past 3 months\n",
    "`meals` | Average number of major meals over the past three months\n",
    "`binge_eating` | Frequency of binge eating\n",
    "`smoke` | whether the person smokes or not\n",
    "`water_consumption` | Average water consumption over the last 3 months\n",
    "`monitor_calories` | Whether the person monitors his/her calorie intake\n",
    "`num_physical_activity` | Average frequency of physical activity over the past 3 months\n",
    "`digital_tracker` | Average frequency of use of a digital tracker over the past 3 months\n",
    "`alcohol` | Whether the person consumes alhocol\n",
    "`transportation_mode` | Mode of commute used by the person\n",
    "`outcome`  | Whether the person will develop a chronic disease in the future or not (1 - Yes, 0 - No)"
   ]
  },
  {
   "cell_type": "code",
   "execution_count": 3,
   "metadata": {
    "colab": {
     "base_uri": "https://localhost:8080/",
     "height": 204
    },
    "executionInfo": {
     "elapsed": 791,
     "status": "ok",
     "timestamp": 1619527827328,
     "user": {
      "displayName": "Abhinav Gupta",
      "photoUrl": "https://lh3.googleusercontent.com/a-/AOh14GjBpiTimJbxMWFkdipjcGYSIUpGfIav82LSmCyTXw=s64",
      "userId": "04670585521629932433"
     },
     "user_tz": -330
    },
    "id": "efkG0EkjeBWo",
    "outputId": "1a0c049c-4aa2-4d17-bc41-553e81a2bba3"
   },
   "outputs": [
    {
     "data": {
      "text/html": [
       "<div>\n",
       "<style scoped>\n",
       "    .dataframe tbody tr th:only-of-type {\n",
       "        vertical-align: middle;\n",
       "    }\n",
       "\n",
       "    .dataframe tbody tr th {\n",
       "        vertical-align: top;\n",
       "    }\n",
       "\n",
       "    .dataframe thead th {\n",
       "        text-align: right;\n",
       "    }\n",
       "</style>\n",
       "<table border=\"1\" class=\"dataframe\">\n",
       "  <thead>\n",
       "    <tr style=\"text-align: right;\">\n",
       "      <th></th>\n",
       "      <th>id</th>\n",
       "      <th>gender</th>\n",
       "      <th>age</th>\n",
       "      <th>height_weight</th>\n",
       "      <th>family_history</th>\n",
       "      <th>high_calorie_food</th>\n",
       "      <th>vegetable_meals</th>\n",
       "      <th>meals</th>\n",
       "      <th>binge_eating</th>\n",
       "      <th>smoke</th>\n",
       "      <th>water_consumption</th>\n",
       "      <th>monitor_calories</th>\n",
       "      <th>num_physical_activity</th>\n",
       "      <th>digital_tracker</th>\n",
       "      <th>alcohol</th>\n",
       "      <th>transportation_mode</th>\n",
       "      <th>outcome</th>\n",
       "    </tr>\n",
       "  </thead>\n",
       "  <tbody>\n",
       "    <tr>\n",
       "      <th>0</th>\n",
       "      <td>0</td>\n",
       "      <td>Female</td>\n",
       "      <td>38</td>\n",
       "      <td>1.548178;62</td>\n",
       "      <td>yes</td>\n",
       "      <td>yes</td>\n",
       "      <td>2.956671</td>\n",
       "      <td>2.965494</td>\n",
       "      <td>Sometimes</td>\n",
       "      <td>no</td>\n",
       "      <td>2.868132</td>\n",
       "      <td>no</td>\n",
       "      <td>0.000000</td>\n",
       "      <td>0.549250</td>\n",
       "      <td>Sometimes</td>\n",
       "      <td>Automobile</td>\n",
       "      <td>0</td>\n",
       "    </tr>\n",
       "    <tr>\n",
       "      <th>1</th>\n",
       "      <td>1</td>\n",
       "      <td>Male</td>\n",
       "      <td>twenty-one</td>\n",
       "      <td>1.607082;sixty-seven</td>\n",
       "      <td>yes</td>\n",
       "      <td>yes</td>\n",
       "      <td>2.000000</td>\n",
       "      <td>3.691226</td>\n",
       "      <td>no</td>\n",
       "      <td>no</td>\n",
       "      <td>3.000000</td>\n",
       "      <td>no</td>\n",
       "      <td>1.228136</td>\n",
       "      <td>0.335200</td>\n",
       "      <td>Sometimes</td>\n",
       "      <td>Public_Transportation</td>\n",
       "      <td>0</td>\n",
       "    </tr>\n",
       "    <tr>\n",
       "      <th>2</th>\n",
       "      <td>2</td>\n",
       "      <td>Female</td>\n",
       "      <td>twenty-six</td>\n",
       "      <td>1.639524,one hundred and eleven</td>\n",
       "      <td>yes</td>\n",
       "      <td>yes</td>\n",
       "      <td>3.000000</td>\n",
       "      <td>3.000000</td>\n",
       "      <td>Sometimes</td>\n",
       "      <td>no</td>\n",
       "      <td>2.739351</td>\n",
       "      <td>no</td>\n",
       "      <td>0.000000</td>\n",
       "      <td>0.064769</td>\n",
       "      <td>Sometimes</td>\n",
       "      <td>Public_Transportation</td>\n",
       "      <td>1</td>\n",
       "    </tr>\n",
       "    <tr>\n",
       "      <th>3</th>\n",
       "      <td>3</td>\n",
       "      <td>Male</td>\n",
       "      <td>18</td>\n",
       "      <td>1.859056_one hundred and eleven</td>\n",
       "      <td>yes</td>\n",
       "      <td>yes</td>\n",
       "      <td>2.000000</td>\n",
       "      <td>1.706551</td>\n",
       "      <td>Sometimes</td>\n",
       "      <td>no</td>\n",
       "      <td>2.039514</td>\n",
       "      <td>no</td>\n",
       "      <td>1.000000</td>\n",
       "      <td>2.000000</td>\n",
       "      <td>Sometimes</td>\n",
       "      <td>Public_Transportation</td>\n",
       "      <td>1</td>\n",
       "    </tr>\n",
       "    <tr>\n",
       "      <th>4</th>\n",
       "      <td>4</td>\n",
       "      <td>Female</td>\n",
       "      <td>18</td>\n",
       "      <td>1.6,58</td>\n",
       "      <td>yes</td>\n",
       "      <td>yes</td>\n",
       "      <td>2.000000</td>\n",
       "      <td>3.000000</td>\n",
       "      <td>Sometimes</td>\n",
       "      <td>no</td>\n",
       "      <td>3.000000</td>\n",
       "      <td>no</td>\n",
       "      <td>3.000000</td>\n",
       "      <td>0.000000</td>\n",
       "      <td>no</td>\n",
       "      <td>Public_Transportation</td>\n",
       "      <td>0</td>\n",
       "    </tr>\n",
       "  </tbody>\n",
       "</table>\n",
       "</div>"
      ],
      "text/plain": [
       "   id  gender         age                    height_weight family_history  \\\n",
       "0   0  Female          38                      1.548178;62            yes   \n",
       "1   1    Male  twenty-one             1.607082;sixty-seven            yes   \n",
       "2   2  Female  twenty-six  1.639524,one hundred and eleven            yes   \n",
       "3   3    Male          18  1.859056_one hundred and eleven            yes   \n",
       "4   4  Female          18                           1.6,58            yes   \n",
       "\n",
       "  high_calorie_food  vegetable_meals     meals binge_eating smoke  \\\n",
       "0               yes         2.956671  2.965494    Sometimes    no   \n",
       "1               yes         2.000000  3.691226           no    no   \n",
       "2               yes         3.000000  3.000000    Sometimes    no   \n",
       "3               yes         2.000000  1.706551    Sometimes    no   \n",
       "4               yes         2.000000  3.000000    Sometimes    no   \n",
       "\n",
       "   water_consumption monitor_calories  num_physical_activity  digital_tracker  \\\n",
       "0           2.868132               no               0.000000         0.549250   \n",
       "1           3.000000               no               1.228136         0.335200   \n",
       "2           2.739351               no               0.000000         0.064769   \n",
       "3           2.039514               no               1.000000         2.000000   \n",
       "4           3.000000               no               3.000000         0.000000   \n",
       "\n",
       "     alcohol    transportation_mode  outcome  \n",
       "0  Sometimes             Automobile        0  \n",
       "1  Sometimes  Public_Transportation        0  \n",
       "2  Sometimes  Public_Transportation        1  \n",
       "3  Sometimes  Public_Transportation        1  \n",
       "4         no  Public_Transportation        0  "
      ]
     },
     "execution_count": 3,
     "metadata": {},
     "output_type": "execute_result"
    }
   ],
   "source": [
    "# The information dataset for the training set is already loaded below\n",
    "data = pd.read_csv('train.csv')\n",
    "data.head()"
   ]
  },
  {
   "cell_type": "code",
   "execution_count": 4,
   "metadata": {
    "id": "2MvtEBNhXFdD"
   },
   "outputs": [],
   "source": [
    "test = pd.read_csv('test.csv')\n",
    "train = data.copy()"
   ]
  },
  {
   "cell_type": "markdown",
   "metadata": {
    "id": "ZR-J9nRmXFdE"
   },
   "source": [
    "# Data Wrangling\n",
    "\n",
    "We check the different columns of the dataset and convert them to a consistent format. For example, some columns like `age` have values in two different formats, etc.\n",
    "\n",
    "We also split and process the `height_weight` column."
   ]
  },
  {
   "cell_type": "code",
   "execution_count": 5,
   "metadata": {
    "id": "hW7s7Dl6A2fF",
    "outputId": "7a5b0aa8-6b89-4b36-b430-5d94774a4edd"
   },
   "outputs": [
    {
     "name": "stdout",
     "output_type": "stream",
     "text": [
      "<class 'pandas.core.frame.DataFrame'>\n",
      "RangeIndex: 1500 entries, 0 to 1499\n",
      "Data columns (total 17 columns):\n",
      " #   Column                 Non-Null Count  Dtype  \n",
      "---  ------                 --------------  -----  \n",
      " 0   id                     1500 non-null   int64  \n",
      " 1   gender                 1500 non-null   object \n",
      " 2   age                    1500 non-null   object \n",
      " 3   height_weight          1500 non-null   object \n",
      " 4   family_history         1500 non-null   object \n",
      " 5   high_calorie_food      1500 non-null   object \n",
      " 6   vegetable_meals        1500 non-null   float64\n",
      " 7   meals                  1500 non-null   float64\n",
      " 8   binge_eating           1500 non-null   object \n",
      " 9   smoke                  1500 non-null   object \n",
      " 10  water_consumption      1500 non-null   float64\n",
      " 11  monitor_calories       1500 non-null   object \n",
      " 12  num_physical_activity  1500 non-null   float64\n",
      " 13  digital_tracker        1500 non-null   float64\n",
      " 14  alcohol                1500 non-null   object \n",
      " 15  transportation_mode    1500 non-null   object \n",
      " 16  outcome                1500 non-null   int64  \n",
      "dtypes: float64(5), int64(2), object(10)\n",
      "memory usage: 199.3+ KB\n"
     ]
    }
   ],
   "source": [
    "train.info()"
   ]
  },
  {
   "cell_type": "markdown",
   "metadata": {
    "id": "C-mdgBlQXFdF"
   },
   "source": [
    "We see that `age` has values in two formats. We convert them to a single consistent format."
   ]
  },
  {
   "cell_type": "code",
   "execution_count": 6,
   "metadata": {
    "id": "RL12ExvVXFdG"
   },
   "outputs": [],
   "source": [
    "def process_age(x):\n",
    "    if x is not np.nan:\n",
    "        try:\n",
    "            return float(x)\n",
    "        except Exception as e:\n",
    "            if '-' in x:\n",
    "                x_split = x.split('-')\n",
    "                return w2n.word_to_num(' '.join(x_split))\n",
    "            else:\n",
    "                return w2n.word_to_num(x)"
   ]
  },
  {
   "cell_type": "code",
   "execution_count": 7,
   "metadata": {
    "id": "fxTYm5e6XFdG"
   },
   "outputs": [],
   "source": [
    "# process age\n",
    "train['age'] = train['age'].apply(process_age)\n",
    "test['age'] = test['age'].apply(process_age)"
   ]
  },
  {
   "cell_type": "markdown",
   "metadata": {
    "id": "bRy759rwXFdH"
   },
   "source": [
    "We see that `height_weight` can be split into two columns based on the delimiter. We do the same."
   ]
  },
  {
   "cell_type": "code",
   "execution_count": 8,
   "metadata": {
    "id": "VDDzk0xGXFdH"
   },
   "outputs": [],
   "source": [
    "new_col = []\n",
    "for row in train[['height_weight']].iterrows():\n",
    "    val = row[1][0]\n",
    "    if val is np.nan:\n",
    "        new_col.append([np.nan, np.nan])\n",
    "    elif ';' in val:\n",
    "        new_col.append(val.split(';'))\n",
    "    elif '_' in val:\n",
    "        new_col.append(val.split('_'))\n",
    "    else:\n",
    "        new_col.append(val.split(','))\n",
    "\n",
    "new_col = pd.DataFrame(new_col, columns=['height', 'weight'])\n",
    "train = pd.concat([train, new_col], axis=1)\n",
    "train = train.drop(columns=['height_weight'])\n",
    "\n",
    "\n",
    "new_col = []\n",
    "for row in test[['height_weight']].iterrows():\n",
    "    val = row[1][0]\n",
    "    if val is np.nan:\n",
    "        new_col.append([np.nan, np.nan])\n",
    "    elif ';' in val:\n",
    "        new_col.append(val.split(';'))\n",
    "    elif '_' in val:\n",
    "        new_col.append(val.split('_'))\n",
    "    else:\n",
    "        new_col.append(val.split(','))\n",
    "\n",
    "new_col = pd.DataFrame(new_col, columns=['height', 'weight'])\n",
    "test = pd.concat([test, new_col], axis=1)\n",
    "test = test.drop(columns=['height_weight'])"
   ]
  },
  {
   "cell_type": "code",
   "execution_count": 9,
   "metadata": {
    "id": "FMwbWZ9GXFdI"
   },
   "outputs": [],
   "source": [
    "# process weight\n",
    "train['weight'] = train['weight'].apply(process_age)\n",
    "test['weight'] = test['weight'].apply(process_age)"
   ]
  },
  {
   "cell_type": "markdown",
   "metadata": {
    "id": "oZf3MMvRXFdI"
   },
   "source": [
    "`height` has some impossible values. We convert them to `np.nan`."
   ]
  },
  {
   "cell_type": "code",
   "execution_count": 10,
   "metadata": {
    "id": "FJ6aeeFpXFdJ"
   },
   "outputs": [],
   "source": [
    "train['height'] = train['height'].astype('float')\n",
    "test['height'] = test['height'].astype('float')"
   ]
  },
  {
   "cell_type": "code",
   "execution_count": 11,
   "metadata": {
    "id": "01dJ62OnXFdJ"
   },
   "outputs": [],
   "source": [
    "# convert population\n",
    "train.loc[train['height'] < 0, 'height'] = np.nan\n",
    "test.loc[test['height'] < 0, 'height'] = np.nan"
   ]
  },
  {
   "cell_type": "markdown",
   "metadata": {
    "id": "9Bmj8htcXFdJ"
   },
   "source": [
    "We now fill the nan values in every column."
   ]
  },
  {
   "cell_type": "code",
   "execution_count": 12,
   "metadata": {
    "id": "9ptFWgBJXFdJ",
    "outputId": "ef7f1802-bbfd-4172-e987-26d776dab585"
   },
   "outputs": [
    {
     "data": {
      "text/plain": [
       "id                         0\n",
       "gender                     0\n",
       "age                        0\n",
       "family_history             0\n",
       "high_calorie_food          0\n",
       "vegetable_meals            0\n",
       "meals                      0\n",
       "binge_eating               0\n",
       "smoke                      0\n",
       "water_consumption          0\n",
       "monitor_calories           0\n",
       "num_physical_activity      0\n",
       "digital_tracker            0\n",
       "alcohol                    0\n",
       "transportation_mode        0\n",
       "outcome                    0\n",
       "height                   161\n",
       "weight                     0\n",
       "dtype: int64"
      ]
     },
     "execution_count": 12,
     "metadata": {},
     "output_type": "execute_result"
    }
   ],
   "source": [
    "train.isna().sum()"
   ]
  },
  {
   "cell_type": "code",
   "execution_count": 13,
   "metadata": {
    "id": "VGIk_kSMXFdK"
   },
   "outputs": [],
   "source": [
    "train['height'] = train['height'].fillna(train['height'].mean())\n",
    "test['height'] = test['height'].fillna(train['height'].mean())"
   ]
  },
  {
   "cell_type": "code",
   "execution_count": 14,
   "metadata": {
    "id": "1mcaTFAbXFdK",
    "outputId": "14c066c7-720f-47ce-8fea-5fa455ef3d2b"
   },
   "outputs": [
    {
     "name": "stdout",
     "output_type": "stream",
     "text": [
      "<class 'pandas.core.frame.DataFrame'>\n",
      "RangeIndex: 1500 entries, 0 to 1499\n",
      "Data columns (total 18 columns):\n",
      " #   Column                 Non-Null Count  Dtype  \n",
      "---  ------                 --------------  -----  \n",
      " 0   id                     1500 non-null   int64  \n",
      " 1   gender                 1500 non-null   object \n",
      " 2   age                    1500 non-null   float64\n",
      " 3   family_history         1500 non-null   object \n",
      " 4   high_calorie_food      1500 non-null   object \n",
      " 5   vegetable_meals        1500 non-null   float64\n",
      " 6   meals                  1500 non-null   float64\n",
      " 7   binge_eating           1500 non-null   object \n",
      " 8   smoke                  1500 non-null   object \n",
      " 9   water_consumption      1500 non-null   float64\n",
      " 10  monitor_calories       1500 non-null   object \n",
      " 11  num_physical_activity  1500 non-null   float64\n",
      " 12  digital_tracker        1500 non-null   float64\n",
      " 13  alcohol                1500 non-null   object \n",
      " 14  transportation_mode    1500 non-null   object \n",
      " 15  outcome                1500 non-null   int64  \n",
      " 16  height                 1500 non-null   float64\n",
      " 17  weight                 1500 non-null   float64\n",
      "dtypes: float64(8), int64(2), object(8)\n",
      "memory usage: 211.1+ KB\n"
     ]
    }
   ],
   "source": [
    "train.info()"
   ]
  },
  {
   "cell_type": "markdown",
   "metadata": {
    "id": "DR-SDOzimse3"
   },
   "source": [
    "## Machine Learning\n",
    "\n",
    "Build a machine learning model that can predict the outcome.\n",
    "- **The model's performance will be evaluated on the basis of Accuracy Score.**"
   ]
  },
  {
   "cell_type": "markdown",
   "metadata": {
    "id": "lWl6pOL8XFdL"
   },
   "source": [
    "We apply the following steps:\n",
    "* We label encode the categorical columns.\n",
    "* We split the data into training and validation sets.\n",
    "* Finally, we fit a gradient boosting classifier to the data."
   ]
  },
  {
   "cell_type": "code",
   "execution_count": 15,
   "metadata": {
    "id": "PlbI7grXXFdL",
    "outputId": "1c1b611e-6800-403b-d7f2-2b7a139c56cb"
   },
   "outputs": [
    {
     "data": {
      "text/plain": [
       "Index(['gender', 'family_history', 'high_calorie_food', 'binge_eating',\n",
       "       'smoke', 'monitor_calories', 'alcohol', 'transportation_mode'],\n",
       "      dtype='object')"
      ]
     },
     "execution_count": 15,
     "metadata": {},
     "output_type": "execute_result"
    }
   ],
   "source": [
    "# define categorical columns\n",
    "cat_cols = train.select_dtypes('object').columns\n",
    "cat_cols"
   ]
  },
  {
   "cell_type": "code",
   "execution_count": 16,
   "metadata": {
    "id": "_mj_Y2neXFdL"
   },
   "outputs": [],
   "source": [
    "# label encode column\n",
    "le = LabelEncoder()\n",
    "\n",
    "for i in cat_cols:\n",
    "    train[i] = le.fit_transform(train[i])\n",
    "    le_dict = dict(zip(le.classes_, le.transform(le.classes_)))\n",
    "    test[i] = test[i].apply(lambda x: le_dict.get(x, -1))"
   ]
  },
  {
   "cell_type": "code",
   "execution_count": 17,
   "metadata": {
    "id": "dH3zFLB3XFdL",
    "outputId": "d4c63e10-d7c0-4e7c-e34c-08ec2ac445d4"
   },
   "outputs": [
    {
     "data": {
      "text/plain": [
       "Index(['id', 'gender', 'age', 'family_history', 'high_calorie_food',\n",
       "       'vegetable_meals', 'meals', 'binge_eating', 'smoke',\n",
       "       'water_consumption', 'monitor_calories', 'num_physical_activity',\n",
       "       'digital_tracker', 'alcohol', 'transportation_mode', 'outcome',\n",
       "       'height', 'weight'],\n",
       "      dtype='object')"
      ]
     },
     "execution_count": 17,
     "metadata": {},
     "output_type": "execute_result"
    }
   ],
   "source": [
    "train.columns"
   ]
  },
  {
   "cell_type": "code",
   "execution_count": 18,
   "metadata": {
    "id": "8aaxIIovXFdL"
   },
   "outputs": [],
   "source": [
    "FEATURES = ['gender', 'age', 'family_history', 'high_calorie_food',\n",
    "       'vegetable_meals', 'meals', 'binge_eating', 'smoke',\n",
    "       'water_consumption', 'monitor_calories', 'num_physical_activity',\n",
    "       'digital_tracker', 'alcohol', 'transportation_mode',\n",
    "       'height', 'weight']"
   ]
  },
  {
   "cell_type": "code",
   "execution_count": 19,
   "metadata": {
    "id": "cUo0yPpWXFdM",
    "outputId": "b8ddd3c7-0ef4-49b6-d31b-bfdd1b1f25aa"
   },
   "outputs": [
    {
     "data": {
      "text/html": [
       "<div>\n",
       "<style scoped>\n",
       "    .dataframe tbody tr th:only-of-type {\n",
       "        vertical-align: middle;\n",
       "    }\n",
       "\n",
       "    .dataframe tbody tr th {\n",
       "        vertical-align: top;\n",
       "    }\n",
       "\n",
       "    .dataframe thead th {\n",
       "        text-align: right;\n",
       "    }\n",
       "</style>\n",
       "<table border=\"1\" class=\"dataframe\">\n",
       "  <thead>\n",
       "    <tr style=\"text-align: right;\">\n",
       "      <th></th>\n",
       "      <th>gender</th>\n",
       "      <th>age</th>\n",
       "      <th>family_history</th>\n",
       "      <th>high_calorie_food</th>\n",
       "      <th>vegetable_meals</th>\n",
       "      <th>meals</th>\n",
       "      <th>binge_eating</th>\n",
       "      <th>smoke</th>\n",
       "      <th>water_consumption</th>\n",
       "      <th>monitor_calories</th>\n",
       "      <th>num_physical_activity</th>\n",
       "      <th>digital_tracker</th>\n",
       "      <th>alcohol</th>\n",
       "      <th>transportation_mode</th>\n",
       "      <th>height</th>\n",
       "      <th>weight</th>\n",
       "    </tr>\n",
       "  </thead>\n",
       "  <tbody>\n",
       "    <tr>\n",
       "      <th>0</th>\n",
       "      <td>0</td>\n",
       "      <td>38.0</td>\n",
       "      <td>1</td>\n",
       "      <td>1</td>\n",
       "      <td>2.956671</td>\n",
       "      <td>2.965494</td>\n",
       "      <td>2</td>\n",
       "      <td>0</td>\n",
       "      <td>2.868132</td>\n",
       "      <td>0</td>\n",
       "      <td>0.000000</td>\n",
       "      <td>0.549250</td>\n",
       "      <td>1</td>\n",
       "      <td>0</td>\n",
       "      <td>1.548178</td>\n",
       "      <td>62.0</td>\n",
       "    </tr>\n",
       "    <tr>\n",
       "      <th>1</th>\n",
       "      <td>1</td>\n",
       "      <td>21.0</td>\n",
       "      <td>1</td>\n",
       "      <td>1</td>\n",
       "      <td>2.000000</td>\n",
       "      <td>3.691226</td>\n",
       "      <td>3</td>\n",
       "      <td>0</td>\n",
       "      <td>3.000000</td>\n",
       "      <td>0</td>\n",
       "      <td>1.228136</td>\n",
       "      <td>0.335200</td>\n",
       "      <td>1</td>\n",
       "      <td>3</td>\n",
       "      <td>1.607082</td>\n",
       "      <td>67.0</td>\n",
       "    </tr>\n",
       "    <tr>\n",
       "      <th>2</th>\n",
       "      <td>0</td>\n",
       "      <td>26.0</td>\n",
       "      <td>1</td>\n",
       "      <td>1</td>\n",
       "      <td>3.000000</td>\n",
       "      <td>3.000000</td>\n",
       "      <td>2</td>\n",
       "      <td>0</td>\n",
       "      <td>2.739351</td>\n",
       "      <td>0</td>\n",
       "      <td>0.000000</td>\n",
       "      <td>0.064769</td>\n",
       "      <td>1</td>\n",
       "      <td>3</td>\n",
       "      <td>1.639524</td>\n",
       "      <td>111.0</td>\n",
       "    </tr>\n",
       "    <tr>\n",
       "      <th>3</th>\n",
       "      <td>1</td>\n",
       "      <td>18.0</td>\n",
       "      <td>1</td>\n",
       "      <td>1</td>\n",
       "      <td>2.000000</td>\n",
       "      <td>1.706551</td>\n",
       "      <td>2</td>\n",
       "      <td>0</td>\n",
       "      <td>2.039514</td>\n",
       "      <td>0</td>\n",
       "      <td>1.000000</td>\n",
       "      <td>2.000000</td>\n",
       "      <td>1</td>\n",
       "      <td>3</td>\n",
       "      <td>1.859056</td>\n",
       "      <td>111.0</td>\n",
       "    </tr>\n",
       "    <tr>\n",
       "      <th>4</th>\n",
       "      <td>0</td>\n",
       "      <td>18.0</td>\n",
       "      <td>1</td>\n",
       "      <td>1</td>\n",
       "      <td>2.000000</td>\n",
       "      <td>3.000000</td>\n",
       "      <td>2</td>\n",
       "      <td>0</td>\n",
       "      <td>3.000000</td>\n",
       "      <td>0</td>\n",
       "      <td>3.000000</td>\n",
       "      <td>0.000000</td>\n",
       "      <td>2</td>\n",
       "      <td>3</td>\n",
       "      <td>1.600000</td>\n",
       "      <td>58.0</td>\n",
       "    </tr>\n",
       "    <tr>\n",
       "      <th>...</th>\n",
       "      <td>...</td>\n",
       "      <td>...</td>\n",
       "      <td>...</td>\n",
       "      <td>...</td>\n",
       "      <td>...</td>\n",
       "      <td>...</td>\n",
       "      <td>...</td>\n",
       "      <td>...</td>\n",
       "      <td>...</td>\n",
       "      <td>...</td>\n",
       "      <td>...</td>\n",
       "      <td>...</td>\n",
       "      <td>...</td>\n",
       "      <td>...</td>\n",
       "      <td>...</td>\n",
       "      <td>...</td>\n",
       "    </tr>\n",
       "    <tr>\n",
       "      <th>1495</th>\n",
       "      <td>1</td>\n",
       "      <td>25.0</td>\n",
       "      <td>1</td>\n",
       "      <td>1</td>\n",
       "      <td>2.175276</td>\n",
       "      <td>3.000000</td>\n",
       "      <td>2</td>\n",
       "      <td>0</td>\n",
       "      <td>2.128176</td>\n",
       "      <td>0</td>\n",
       "      <td>1.306476</td>\n",
       "      <td>0.079334</td>\n",
       "      <td>1</td>\n",
       "      <td>3</td>\n",
       "      <td>1.772740</td>\n",
       "      <td>114.0</td>\n",
       "    </tr>\n",
       "    <tr>\n",
       "      <th>1496</th>\n",
       "      <td>0</td>\n",
       "      <td>19.0</td>\n",
       "      <td>0</td>\n",
       "      <td>0</td>\n",
       "      <td>2.886260</td>\n",
       "      <td>3.559841</td>\n",
       "      <td>1</td>\n",
       "      <td>0</td>\n",
       "      <td>1.632004</td>\n",
       "      <td>0</td>\n",
       "      <td>2.000000</td>\n",
       "      <td>1.000000</td>\n",
       "      <td>1</td>\n",
       "      <td>3</td>\n",
       "      <td>1.670635</td>\n",
       "      <td>49.0</td>\n",
       "    </tr>\n",
       "    <tr>\n",
       "      <th>1497</th>\n",
       "      <td>0</td>\n",
       "      <td>31.0</td>\n",
       "      <td>1</td>\n",
       "      <td>1</td>\n",
       "      <td>2.000000</td>\n",
       "      <td>3.000000</td>\n",
       "      <td>2</td>\n",
       "      <td>0</td>\n",
       "      <td>1.000000</td>\n",
       "      <td>0</td>\n",
       "      <td>0.000000</td>\n",
       "      <td>1.301385</td>\n",
       "      <td>1</td>\n",
       "      <td>0</td>\n",
       "      <td>1.666023</td>\n",
       "      <td>72.0</td>\n",
       "    </tr>\n",
       "    <tr>\n",
       "      <th>1498</th>\n",
       "      <td>1</td>\n",
       "      <td>19.0</td>\n",
       "      <td>1</td>\n",
       "      <td>0</td>\n",
       "      <td>2.000000</td>\n",
       "      <td>3.000000</td>\n",
       "      <td>1</td>\n",
       "      <td>0</td>\n",
       "      <td>2.000000</td>\n",
       "      <td>0</td>\n",
       "      <td>1.000000</td>\n",
       "      <td>0.000000</td>\n",
       "      <td>2</td>\n",
       "      <td>3</td>\n",
       "      <td>1.820000</td>\n",
       "      <td>75.0</td>\n",
       "    </tr>\n",
       "    <tr>\n",
       "      <th>1499</th>\n",
       "      <td>1</td>\n",
       "      <td>18.0</td>\n",
       "      <td>0</td>\n",
       "      <td>1</td>\n",
       "      <td>3.000000</td>\n",
       "      <td>3.000000</td>\n",
       "      <td>2</td>\n",
       "      <td>0</td>\n",
       "      <td>2.000000</td>\n",
       "      <td>0</td>\n",
       "      <td>2.000000</td>\n",
       "      <td>0.000000</td>\n",
       "      <td>1</td>\n",
       "      <td>3</td>\n",
       "      <td>1.700000</td>\n",
       "      <td>90.0</td>\n",
       "    </tr>\n",
       "  </tbody>\n",
       "</table>\n",
       "<p>1500 rows × 16 columns</p>\n",
       "</div>"
      ],
      "text/plain": [
       "      gender   age  family_history  high_calorie_food  vegetable_meals  \\\n",
       "0          0  38.0               1                  1         2.956671   \n",
       "1          1  21.0               1                  1         2.000000   \n",
       "2          0  26.0               1                  1         3.000000   \n",
       "3          1  18.0               1                  1         2.000000   \n",
       "4          0  18.0               1                  1         2.000000   \n",
       "...      ...   ...             ...                ...              ...   \n",
       "1495       1  25.0               1                  1         2.175276   \n",
       "1496       0  19.0               0                  0         2.886260   \n",
       "1497       0  31.0               1                  1         2.000000   \n",
       "1498       1  19.0               1                  0         2.000000   \n",
       "1499       1  18.0               0                  1         3.000000   \n",
       "\n",
       "         meals  binge_eating  smoke  water_consumption  monitor_calories  \\\n",
       "0     2.965494             2      0           2.868132                 0   \n",
       "1     3.691226             3      0           3.000000                 0   \n",
       "2     3.000000             2      0           2.739351                 0   \n",
       "3     1.706551             2      0           2.039514                 0   \n",
       "4     3.000000             2      0           3.000000                 0   \n",
       "...        ...           ...    ...                ...               ...   \n",
       "1495  3.000000             2      0           2.128176                 0   \n",
       "1496  3.559841             1      0           1.632004                 0   \n",
       "1497  3.000000             2      0           1.000000                 0   \n",
       "1498  3.000000             1      0           2.000000                 0   \n",
       "1499  3.000000             2      0           2.000000                 0   \n",
       "\n",
       "      num_physical_activity  digital_tracker  alcohol  transportation_mode  \\\n",
       "0                  0.000000         0.549250        1                    0   \n",
       "1                  1.228136         0.335200        1                    3   \n",
       "2                  0.000000         0.064769        1                    3   \n",
       "3                  1.000000         2.000000        1                    3   \n",
       "4                  3.000000         0.000000        2                    3   \n",
       "...                     ...              ...      ...                  ...   \n",
       "1495               1.306476         0.079334        1                    3   \n",
       "1496               2.000000         1.000000        1                    3   \n",
       "1497               0.000000         1.301385        1                    0   \n",
       "1498               1.000000         0.000000        2                    3   \n",
       "1499               2.000000         0.000000        1                    3   \n",
       "\n",
       "        height  weight  \n",
       "0     1.548178    62.0  \n",
       "1     1.607082    67.0  \n",
       "2     1.639524   111.0  \n",
       "3     1.859056   111.0  \n",
       "4     1.600000    58.0  \n",
       "...        ...     ...  \n",
       "1495  1.772740   114.0  \n",
       "1496  1.670635    49.0  \n",
       "1497  1.666023    72.0  \n",
       "1498  1.820000    75.0  \n",
       "1499  1.700000    90.0  \n",
       "\n",
       "[1500 rows x 16 columns]"
      ]
     },
     "execution_count": 19,
     "metadata": {},
     "output_type": "execute_result"
    }
   ],
   "source": [
    "train[FEATURES]"
   ]
  },
  {
   "cell_type": "code",
   "execution_count": 20,
   "metadata": {
    "id": "0YJhXygim5ql"
   },
   "outputs": [],
   "source": [
    "# split the dataset into train and val sets\n",
    "X_train, X_val, y_train, y_val = train_test_split(train[FEATURES], train['outcome'], test_size=0.2, shuffle=True)"
   ]
  },
  {
   "cell_type": "code",
   "execution_count": 21,
   "metadata": {
    "id": "D0f9NA3qXFdM"
   },
   "outputs": [],
   "source": [
    "# define random forest classifier and fit the training data\n",
    "model = lightgbm.LGBMClassifier()"
   ]
  },
  {
   "cell_type": "code",
   "execution_count": 22,
   "metadata": {
    "id": "2VfWKzvrXFdM",
    "outputId": "85f85859-f6b9-4433-b372-2ec234cfaa90"
   },
   "outputs": [
    {
     "data": {
      "text/plain": [
       "LGBMClassifier()"
      ]
     },
     "execution_count": 22,
     "metadata": {},
     "output_type": "execute_result"
    }
   ],
   "source": [
    "# fit the model\n",
    "model.fit(X_train, y_train)"
   ]
  },
  {
   "cell_type": "code",
   "execution_count": 23,
   "metadata": {
    "id": "SlQrgtvDXFdN",
    "outputId": "e82eadf6-bcd0-4f01-e254-5fab47adb864"
   },
   "outputs": [
    {
     "data": {
      "text/plain": [
       "1.0"
      ]
     },
     "execution_count": 23,
     "metadata": {},
     "output_type": "execute_result"
    }
   ],
   "source": [
    "train_preds = model.predict(X_train)\n",
    "accuracy_score(y_train, train_preds)"
   ]
  },
  {
   "cell_type": "code",
   "execution_count": 24,
   "metadata": {
    "id": "7SvDtBUmXFdN",
    "outputId": "ff7fdee0-a89d-48ff-af94-84d3b5b80e9e"
   },
   "outputs": [
    {
     "data": {
      "text/plain": [
       "array([[148,   0],\n",
       "       [  0, 152]], dtype=int64)"
      ]
     },
     "execution_count": 24,
     "metadata": {},
     "output_type": "execute_result"
    }
   ],
   "source": [
    "preds = model.predict(X_val)\n",
    "confusion_matrix(y_val, preds)"
   ]
  },
  {
   "cell_type": "code",
   "execution_count": 25,
   "metadata": {
    "id": "cB0iLrzKXFdN",
    "outputId": "9be0fffe-9fd1-4f91-e48a-8599e3326ff9"
   },
   "outputs": [
    {
     "data": {
      "text/plain": [
       "1.0"
      ]
     },
     "execution_count": 25,
     "metadata": {},
     "output_type": "execute_result"
    }
   ],
   "source": [
    "accuracy_score(y_val, preds)"
   ]
  },
  {
   "cell_type": "code",
   "execution_count": 26,
   "metadata": {
    "id": "ry9jR4BLXFdN",
    "outputId": "e3bd768b-140a-4c9f-c01e-3531e2069754"
   },
   "outputs": [
    {
     "name": "stdout",
     "output_type": "stream",
     "text": [
      "              precision    recall  f1-score   support\n",
      "\n",
      "           0       1.00      1.00      1.00       148\n",
      "           1       1.00      1.00      1.00       152\n",
      "\n",
      "    accuracy                           1.00       300\n",
      "   macro avg       1.00      1.00      1.00       300\n",
      "weighted avg       1.00      1.00      1.00       300\n",
      "\n"
     ]
    }
   ],
   "source": [
    "print(classification_report(y_val, preds))"
   ]
  },
  {
   "cell_type": "markdown",
   "metadata": {
    "id": "WJwOc3vXXFdO"
   },
   "source": [
    "We find the most important features."
   ]
  },
  {
   "cell_type": "code",
   "execution_count": 27,
   "metadata": {
    "id": "P_qKZCyoXFdO",
    "outputId": "b3bf5e50-4201-4db7-c460-0bd22d7235c3"
   },
   "outputs": [
    {
     "name": "stderr",
     "output_type": "stream",
     "text": [
      "C:\\Users\\Admin\\anaconda3\\lib\\site-packages\\seaborn\\_decorators.py:36: FutureWarning: Pass the following variables as keyword args: x, y. From version 0.12, the only valid positional argument will be `data`, and passing other arguments without an explicit keyword will result in an error or misinterpretation.\n",
      "  warnings.warn(\n"
     ]
    },
    {
     "data": {
      "text/plain": [
       "<AxesSubplot:xlabel='imp', ylabel='col'>"
      ]
     },
     "execution_count": 27,
     "metadata": {},
     "output_type": "execute_result"
    },
    {
     "data": {
      "image/png": "[encoded data removed]",
      "text/plain": [
       "<Figure size 432x288 with 1 Axes>"
      ]
     },
     "metadata": {
      "needs_background": "light"
     },
     "output_type": "display_data"
    }
   ],
   "source": [
    "imp = pd.DataFrame()\n",
    "imp['col'] = FEATURES\n",
    "imp['imp'] = model.feature_importances_\n",
    "imp = imp.sort_values(by='imp', ascending=False)\n",
    "\n",
    "\n",
    "import matplotlib.pyplot as plt\n",
    "import seaborn as sns\n",
    "\n",
    "sns.barplot(imp['imp'], imp['col'])"
   ]
  },
  {
   "cell_type": "markdown",
   "metadata": {
    "id": "sXCkndGRm6Bz"
   },
   "source": [
    "> #### Task:\n",
    "- **Submit the predictions on the test dataset using your optimized model** <br/>\n",
    "    Submit a CSV file with a header row plus each of the test entries, each on its own line. \n",
    "\n",
    "The file (`submissions.csv`) should have exactly 2 columns:\n",
    "\n",
    "Column | Description\n",
    ":---|:---\n",
    "`id`  | Unique ID corresponding to the person\n",
    "`outcome`  | Whether the person will develop a chronic disease in the future or not (1 - Yes, 0 - No)"
   ]
  },
  {
   "cell_type": "code",
   "execution_count": 28,
   "metadata": {
    "colab": {
     "base_uri": "https://localhost:8080/",
     "height": 204
    },
    "executionInfo": {
     "elapsed": 1193,
     "status": "ok",
     "timestamp": 1619527944020,
     "user": {
      "displayName": "Abhinav Gupta",
      "photoUrl": "https://lh3.googleusercontent.com/a-/AOh14GjBpiTimJbxMWFkdipjcGYSIUpGfIav82LSmCyTXw=s64",
      "userId": "04670585521629932433"
     },
     "user_tz": -330
    },
    "id": "m0UOiaNWnvL5",
    "outputId": "af2c41ef-8c1f-44c8-a8ad-3c059f299117"
   },
   "outputs": [
    {
     "data": {
      "text/html": [
       "<div>\n",
       "<style scoped>\n",
       "    .dataframe tbody tr th:only-of-type {\n",
       "        vertical-align: middle;\n",
       "    }\n",
       "\n",
       "    .dataframe tbody tr th {\n",
       "        vertical-align: top;\n",
       "    }\n",
       "\n",
       "    .dataframe thead th {\n",
       "        text-align: right;\n",
       "    }\n",
       "</style>\n",
       "<table border=\"1\" class=\"dataframe\">\n",
       "  <thead>\n",
       "    <tr style=\"text-align: right;\">\n",
       "      <th></th>\n",
       "      <th>id</th>\n",
       "      <th>gender</th>\n",
       "      <th>age</th>\n",
       "      <th>family_history</th>\n",
       "      <th>high_calorie_food</th>\n",
       "      <th>vegetable_meals</th>\n",
       "      <th>meals</th>\n",
       "      <th>binge_eating</th>\n",
       "      <th>smoke</th>\n",
       "      <th>water_consumption</th>\n",
       "      <th>monitor_calories</th>\n",
       "      <th>num_physical_activity</th>\n",
       "      <th>digital_tracker</th>\n",
       "      <th>alcohol</th>\n",
       "      <th>transportation_mode</th>\n",
       "      <th>height</th>\n",
       "      <th>weight</th>\n",
       "    </tr>\n",
       "  </thead>\n",
       "  <tbody>\n",
       "    <tr>\n",
       "      <th>0</th>\n",
       "      <td>1500</td>\n",
       "      <td>0</td>\n",
       "      <td>19.0</td>\n",
       "      <td>1</td>\n",
       "      <td>1</td>\n",
       "      <td>1.078529</td>\n",
       "      <td>1.211606</td>\n",
       "      <td>2</td>\n",
       "      <td>0</td>\n",
       "      <td>2.568063</td>\n",
       "      <td>0</td>\n",
       "      <td>3.000000</td>\n",
       "      <td>0.817983</td>\n",
       "      <td>2</td>\n",
       "      <td>3</td>\n",
       "      <td>1.779882</td>\n",
       "      <td>80.0</td>\n",
       "    </tr>\n",
       "    <tr>\n",
       "      <th>1</th>\n",
       "      <td>1501</td>\n",
       "      <td>0</td>\n",
       "      <td>33.0</td>\n",
       "      <td>1</td>\n",
       "      <td>1</td>\n",
       "      <td>2.013782</td>\n",
       "      <td>2.625942</td>\n",
       "      <td>2</td>\n",
       "      <td>0</td>\n",
       "      <td>1.045586</td>\n",
       "      <td>0</td>\n",
       "      <td>0.553305</td>\n",
       "      <td>0.480214</td>\n",
       "      <td>1</td>\n",
       "      <td>0</td>\n",
       "      <td>1.730379</td>\n",
       "      <td>75.0</td>\n",
       "    </tr>\n",
       "    <tr>\n",
       "      <th>2</th>\n",
       "      <td>1502</td>\n",
       "      <td>0</td>\n",
       "      <td>23.0</td>\n",
       "      <td>1</td>\n",
       "      <td>1</td>\n",
       "      <td>3.000000</td>\n",
       "      <td>3.000000</td>\n",
       "      <td>2</td>\n",
       "      <td>0</td>\n",
       "      <td>2.000000</td>\n",
       "      <td>0</td>\n",
       "      <td>1.000000</td>\n",
       "      <td>0.000000</td>\n",
       "      <td>1</td>\n",
       "      <td>2</td>\n",
       "      <td>1.500000</td>\n",
       "      <td>55.0</td>\n",
       "    </tr>\n",
       "    <tr>\n",
       "      <th>3</th>\n",
       "      <td>1503</td>\n",
       "      <td>1</td>\n",
       "      <td>23.0</td>\n",
       "      <td>1</td>\n",
       "      <td>1</td>\n",
       "      <td>3.000000</td>\n",
       "      <td>2.510135</td>\n",
       "      <td>2</td>\n",
       "      <td>0</td>\n",
       "      <td>1.693362</td>\n",
       "      <td>0</td>\n",
       "      <td>0.769709</td>\n",
       "      <td>0.000000</td>\n",
       "      <td>1</td>\n",
       "      <td>3</td>\n",
       "      <td>1.849307</td>\n",
       "      <td>121.0</td>\n",
       "    </tr>\n",
       "    <tr>\n",
       "      <th>4</th>\n",
       "      <td>1504</td>\n",
       "      <td>0</td>\n",
       "      <td>21.0</td>\n",
       "      <td>1</td>\n",
       "      <td>1</td>\n",
       "      <td>3.000000</td>\n",
       "      <td>1.000000</td>\n",
       "      <td>2</td>\n",
       "      <td>0</td>\n",
       "      <td>2.000000</td>\n",
       "      <td>0</td>\n",
       "      <td>2.971832</td>\n",
       "      <td>0.000000</td>\n",
       "      <td>1</td>\n",
       "      <td>3</td>\n",
       "      <td>1.758628</td>\n",
       "      <td>78.0</td>\n",
       "    </tr>\n",
       "  </tbody>\n",
       "</table>\n",
       "</div>"
      ],
      "text/plain": [
       "     id  gender   age  family_history  high_calorie_food  vegetable_meals  \\\n",
       "0  1500       0  19.0               1                  1         1.078529   \n",
       "1  1501       0  33.0               1                  1         2.013782   \n",
       "2  1502       0  23.0               1                  1         3.000000   \n",
       "3  1503       1  23.0               1                  1         3.000000   \n",
       "4  1504       0  21.0               1                  1         3.000000   \n",
       "\n",
       "      meals  binge_eating  smoke  water_consumption  monitor_calories  \\\n",
       "0  1.211606             2      0           2.568063                 0   \n",
       "1  2.625942             2      0           1.045586                 0   \n",
       "2  3.000000             2      0           2.000000                 0   \n",
       "3  2.510135             2      0           1.693362                 0   \n",
       "4  1.000000             2      0           2.000000                 0   \n",
       "\n",
       "   num_physical_activity  digital_tracker  alcohol  transportation_mode  \\\n",
       "0               3.000000         0.817983        2                    3   \n",
       "1               0.553305         0.480214        1                    0   \n",
       "2               1.000000         0.000000        1                    2   \n",
       "3               0.769709         0.000000        1                    3   \n",
       "4               2.971832         0.000000        1                    3   \n",
       "\n",
       "     height  weight  \n",
       "0  1.779882    80.0  \n",
       "1  1.730379    75.0  \n",
       "2  1.500000    55.0  \n",
       "3  1.849307   121.0  \n",
       "4  1.758628    78.0  "
      ]
     },
     "execution_count": 28,
     "metadata": {},
     "output_type": "execute_result"
    }
   ],
   "source": [
    "test.head()"
   ]
  },
  {
   "cell_type": "code",
   "execution_count": 29,
   "metadata": {
    "id": "JvDjtDgQPf0B"
   },
   "outputs": [],
   "source": [
    "test_preds = model.predict(test[FEATURES])"
   ]
  },
  {
   "cell_type": "code",
   "execution_count": 30,
   "metadata": {
    "id": "FyqSBFFGXFdP",
    "outputId": "7efb8a2e-bffc-4431-a4b8-6f61d491daef"
   },
   "outputs": [
    {
     "data": {
      "text/plain": [
       "1    171\n",
       "0    150\n",
       "Name: outcome, dtype: int64"
      ]
     },
     "execution_count": 30,
     "metadata": {},
     "output_type": "execute_result"
    }
   ],
   "source": [
    "test['outcome'] = test_preds\n",
    "test['outcome'].value_counts()"
   ]
  },
  {
   "cell_type": "code",
   "execution_count": 31,
   "metadata": {
    "id": "rDw5s2w8XFdP"
   },
   "outputs": [],
   "source": [
    "submission_df = test[['id', 'outcome']]"
   ]
  },
  {
   "cell_type": "code",
   "execution_count": 32,
   "metadata": {
    "id": "GcqIPIQDXFdP",
    "outputId": "d2d0ebfc-52dc-473f-8946-849588343f89"
   },
   "outputs": [
    {
     "data": {
      "text/html": [
       "<div>\n",
       "<style scoped>\n",
       "    .dataframe tbody tr th:only-of-type {\n",
       "        vertical-align: middle;\n",
       "    }\n",
       "\n",
       "    .dataframe tbody tr th {\n",
       "        vertical-align: top;\n",
       "    }\n",
       "\n",
       "    .dataframe thead th {\n",
       "        text-align: right;\n",
       "    }\n",
       "</style>\n",
       "<table border=\"1\" class=\"dataframe\">\n",
       "  <thead>\n",
       "    <tr style=\"text-align: right;\">\n",
       "      <th></th>\n",
       "      <th>id</th>\n",
       "      <th>outcome</th>\n",
       "    </tr>\n",
       "  </thead>\n",
       "  <tbody>\n",
       "    <tr>\n",
       "      <th>0</th>\n",
       "      <td>1500</td>\n",
       "      <td>0</td>\n",
       "    </tr>\n",
       "    <tr>\n",
       "      <th>1</th>\n",
       "      <td>1501</td>\n",
       "      <td>0</td>\n",
       "    </tr>\n",
       "    <tr>\n",
       "      <th>2</th>\n",
       "      <td>1502</td>\n",
       "      <td>0</td>\n",
       "    </tr>\n",
       "    <tr>\n",
       "      <th>3</th>\n",
       "      <td>1503</td>\n",
       "      <td>1</td>\n",
       "    </tr>\n",
       "    <tr>\n",
       "      <th>4</th>\n",
       "      <td>1504</td>\n",
       "      <td>0</td>\n",
       "    </tr>\n",
       "    <tr>\n",
       "      <th>...</th>\n",
       "      <td>...</td>\n",
       "      <td>...</td>\n",
       "    </tr>\n",
       "    <tr>\n",
       "      <th>316</th>\n",
       "      <td>1816</td>\n",
       "      <td>0</td>\n",
       "    </tr>\n",
       "    <tr>\n",
       "      <th>317</th>\n",
       "      <td>1817</td>\n",
       "      <td>1</td>\n",
       "    </tr>\n",
       "    <tr>\n",
       "      <th>318</th>\n",
       "      <td>1818</td>\n",
       "      <td>1</td>\n",
       "    </tr>\n",
       "    <tr>\n",
       "      <th>319</th>\n",
       "      <td>1819</td>\n",
       "      <td>0</td>\n",
       "    </tr>\n",
       "    <tr>\n",
       "      <th>320</th>\n",
       "      <td>1820</td>\n",
       "      <td>1</td>\n",
       "    </tr>\n",
       "  </tbody>\n",
       "</table>\n",
       "<p>321 rows × 2 columns</p>\n",
       "</div>"
      ],
      "text/plain": [
       "       id  outcome\n",
       "0    1500        0\n",
       "1    1501        0\n",
       "2    1502        0\n",
       "3    1503        1\n",
       "4    1504        0\n",
       "..    ...      ...\n",
       "316  1816        0\n",
       "317  1817        1\n",
       "318  1818        1\n",
       "319  1819        0\n",
       "320  1820        1\n",
       "\n",
       "[321 rows x 2 columns]"
      ]
     },
     "execution_count": 32,
     "metadata": {},
     "output_type": "execute_result"
    }
   ],
   "source": [
    "submission_df"
   ]
  },
  {
   "cell_type": "code",
   "execution_count": 33,
   "metadata": {
    "id": "oo1BW2qnnzJj"
   },
   "outputs": [],
   "source": [
    "# Submission\n",
    "submission_df.to_csv('submissions.csv', index=False)"
   ]
  },
  {
   "cell_type": "code",
   "execution_count": null,
   "metadata": {
    "id": "XFL2L9KfXFdP"
   },
   "outputs": [],
   "source": []
  },
  {
   "cell_type": "code",
   "execution_count": null,
   "metadata": {},
   "outputs": [],
   "source": []
  }
 ],
 "metadata": {
  "colab": {
   "collapsed_sections": [],
   "name": "Solutions.ipynb",
   "provenance": [],
   "toc_visible": true
  },
  "kernelspec": {
   "display_name": "Python 3",
   "language": "python",
   "name": "python3"
  },
  "language_info": {
   "codemirror_mode": {
    "name": "ipython",
    "version": 3
   },
   "file_extension": ".py",
   "mimetype": "text/x-python",
   "name": "python",
   "nbconvert_exporter": "python",
   "pygments_lexer": "ipython3",
   "version": "3.8.8"
  }
 },
 "nbformat": 4,
 "nbformat_minor": 1
}
