{
 "cells": [
  {
   "cell_type": "markdown",
   "metadata": {
    "id": "xNsf_XJnbG8D"
   },
   "source": [
    "# Generalized Linear Model"
   ]
  },
  {
   "cell_type": "code",
   "execution_count": 1,
   "metadata": {
    "id": "roOSlk6-aDnk"
   },
   "outputs": [],
   "source": [
    "# If additional packages are needed but are not installed by default, uncomment the last two lines of this cell\n",
    "# and replace <package list> with a list of additional packages.\n",
    "# This will ensure the notebook has all the dependencies and works everywhere\n",
    "\n",
    "#import sys\n",
    "#!{sys.executable} -m pip install <package list>"
   ]
  },
  {
   "cell_type": "code",
   "execution_count": 1,
   "metadata": {
    "id": "fmWa0S0ZbYtx"
   },
   "outputs": [],
   "source": [
    "# Libraries\n",
    "import pandas as pd\n",
    "import numpy as np\n",
    "import statsmodels.formula.api as smf\n",
    "import statsmodels.api as sm\n",
    "\n",
    "pd.set_option(\"display.max_columns\", 101)\n",
    "pd.set_option('display.max_colwidth', 100)"
   ]
  },
  {
   "cell_type": "markdown",
   "metadata": {
    "id": "r8kqQ8h2eMJn"
   },
   "source": [
    "## Data Description"
   ]
  },
  {
   "cell_type": "markdown",
   "metadata": {
    "id": "MxXczpXMeNPO"
   },
   "source": [
    "Column | Description\n",
    ":---|:---\n",
    "`feat_0` | Feature 0\n",
    "`feat_1` | Feature 1\n",
    "`feat_2` | Feature 2\n",
    "`feat_3` | Feature 3\n",
    "`feat_4` | Feature 4\n",
    "`feat_5` | Feature 5\n",
    "`feat_6` | Feature 6\n",
    "`label`  | Label"
   ]
  },
  {
   "cell_type": "code",
   "execution_count": 2,
   "metadata": {
    "colab": {
     "base_uri": "https://localhost:8080/",
     "height": 204
    },
    "executionInfo": {
     "elapsed": 791,
     "status": "ok",
     "timestamp": 1619527827328,
     "user": {
      "displayName": "Abhinav Gupta",
      "photoUrl": "https://lh3.googleusercontent.com/a-/AOh14GjBpiTimJbxMWFkdipjcGYSIUpGfIav82LSmCyTXw=s64",
      "userId": "04670585521629932433"
     },
     "user_tz": -330
    },
    "id": "efkG0EkjeBWo",
    "outputId": "1a0c049c-4aa2-4d17-bc41-553e81a2bba3"
   },
   "outputs": [
    {
     "data": {
      "text/html": [
       "<div>\n",
       "<style scoped>\n",
       "    .dataframe tbody tr th:only-of-type {\n",
       "        vertical-align: middle;\n",
       "    }\n",
       "\n",
       "    .dataframe tbody tr th {\n",
       "        vertical-align: top;\n",
       "    }\n",
       "\n",
       "    .dataframe thead th {\n",
       "        text-align: right;\n",
       "    }\n",
       "</style>\n",
       "<table border=\"1\" class=\"dataframe\">\n",
       "  <thead>\n",
       "    <tr style=\"text-align: right;\">\n",
       "      <th></th>\n",
       "      <th>feat_0</th>\n",
       "      <th>feat_1</th>\n",
       "      <th>feat_2</th>\n",
       "      <th>feat_3</th>\n",
       "      <th>feat_4</th>\n",
       "      <th>feat_5</th>\n",
       "      <th>feat_6</th>\n",
       "      <th>label</th>\n",
       "    </tr>\n",
       "  </thead>\n",
       "  <tbody>\n",
       "    <tr>\n",
       "      <th>0</th>\n",
       "      <td>355.0</td>\n",
       "      <td>34.39730</td>\n",
       "      <td>15.91837</td>\n",
       "      <td>14.70646</td>\n",
       "      <td>59.15732</td>\n",
       "      <td>4.445207</td>\n",
       "      <td>50.009913</td>\n",
       "      <td>0.560099</td>\n",
       "    </tr>\n",
       "    <tr>\n",
       "      <th>1</th>\n",
       "      <td>40.0</td>\n",
       "      <td>17.36507</td>\n",
       "      <td>13.63636</td>\n",
       "      <td>16.08324</td>\n",
       "      <td>59.50397</td>\n",
       "      <td>5.267598</td>\n",
       "      <td>83.260870</td>\n",
       "      <td>0.782609</td>\n",
       "    </tr>\n",
       "    <tr>\n",
       "      <th>2</th>\n",
       "      <td>234.0</td>\n",
       "      <td>32.64324</td>\n",
       "      <td>28.83436</td>\n",
       "      <td>14.59559</td>\n",
       "      <td>60.56992</td>\n",
       "      <td>5.482922</td>\n",
       "      <td>51.019264</td>\n",
       "      <td>0.590193</td>\n",
       "    </tr>\n",
       "    <tr>\n",
       "      <th>3</th>\n",
       "      <td>178.0</td>\n",
       "      <td>11.90953</td>\n",
       "      <td>11.11111</td>\n",
       "      <td>14.38939</td>\n",
       "      <td>58.33411</td>\n",
       "      <td>4.165093</td>\n",
       "      <td>64.935428</td>\n",
       "      <td>0.689354</td>\n",
       "    </tr>\n",
       "    <tr>\n",
       "      <th>4</th>\n",
       "      <td>57.0</td>\n",
       "      <td>36.88889</td>\n",
       "      <td>43.58974</td>\n",
       "      <td>13.90568</td>\n",
       "      <td>63.15364</td>\n",
       "      <td>4.324902</td>\n",
       "      <td>16.307692</td>\n",
       "      <td>0.123077</td>\n",
       "    </tr>\n",
       "  </tbody>\n",
       "</table>\n",
       "</div>"
      ],
      "text/plain": [
       "   feat_0    feat_1    feat_2    feat_3    feat_4    feat_5     feat_6  \\\n",
       "0   355.0  34.39730  15.91837  14.70646  59.15732  4.445207  50.009913   \n",
       "1    40.0  17.36507  13.63636  16.08324  59.50397  5.267598  83.260870   \n",
       "2   234.0  32.64324  28.83436  14.59559  60.56992  5.482922  51.019264   \n",
       "3   178.0  11.90953  11.11111  14.38939  58.33411  4.165093  64.935428   \n",
       "4    57.0  36.88889  43.58974  13.90568  63.15364  4.324902  16.307692   \n",
       "\n",
       "      label  \n",
       "0  0.560099  \n",
       "1  0.782609  \n",
       "2  0.590193  \n",
       "3  0.689354  \n",
       "4  0.123077  "
      ]
     },
     "execution_count": 2,
     "metadata": {},
     "output_type": "execute_result"
    }
   ],
   "source": [
    "# The information dataset for the training set is already loaded below\n",
    "data = pd.read_csv('train.csv')\n",
    "data.head()"
   ]
  },
  {
   "cell_type": "code",
   "execution_count": 3,
   "metadata": {
    "id": "hW7s7Dl6A2fF"
   },
   "outputs": [
    {
     "data": {
      "text/plain": [
       "feat_0    0\n",
       "feat_1    0\n",
       "feat_2    0\n",
       "feat_3    0\n",
       "feat_4    0\n",
       "feat_5    0\n",
       "feat_6    0\n",
       "label     0\n",
       "dtype: int64"
      ]
     },
     "execution_count": 3,
     "metadata": {},
     "output_type": "execute_result"
    }
   ],
   "source": [
    "data.isna().sum()"
   ]
  },
  {
   "cell_type": "code",
   "execution_count": 5,
   "metadata": {
    "id": "wHrNW573ryKp"
   },
   "outputs": [
    {
     "name": "stdout",
     "output_type": "stream",
     "text": [
      "<class 'pandas.core.frame.DataFrame'>\n",
      "RangeIndex: 284 entries, 0 to 283\n",
      "Data columns (total 8 columns):\n",
      " #   Column  Non-Null Count  Dtype  \n",
      "---  ------  --------------  -----  \n",
      " 0   feat_0  284 non-null    float64\n",
      " 1   feat_1  284 non-null    float64\n",
      " 2   feat_2  284 non-null    float64\n",
      " 3   feat_3  284 non-null    float64\n",
      " 4   feat_4  284 non-null    float64\n",
      " 5   feat_5  284 non-null    float64\n",
      " 6   feat_6  284 non-null    float64\n",
      " 7   label   284 non-null    float64\n",
      "dtypes: float64(8)\n",
      "memory usage: 17.9 KB\n"
     ]
    }
   ],
   "source": [
    "data.info()"
   ]
  },
  {
   "cell_type": "markdown",
   "metadata": {
    "id": "DR-SDOzimse3"
   },
   "source": [
    "## Machine Learning\n",
    "\n",
    "Build a GLM that can predict the label.\n",
    "- **The model's performance will be evaluated on the basis of R-squared.**"
   ]
  },
  {
   "cell_type": "code",
   "execution_count": 9,
   "metadata": {
    "id": "xlCNnIWZmoG6"
   },
   "outputs": [],
   "source": [
    "col_names = ['feat_0','feat_1', 'feat_2', 'feat_3','feat_4','feat_5','feat_6']\n",
    "formula = 'label ~ feat_0 + feat_1 + feat_2 + feat_3 + feat_4 + feat_5 + feat_6'\n",
    "\n",
    "model = smf.glm(formula=formula, data=data, family=sm.families.Binomial()).fit()"
   ]
  },
  {
   "cell_type": "code",
   "execution_count": 13,
   "metadata": {
    "id": "7VjhrFrutwWc"
   },
   "outputs": [
    {
     "data": {
      "text/plain": [
       "Intercept    0.276536\n",
       "feat_0       0.932139\n",
       "feat_1       0.580894\n",
       "feat_2       0.956091\n",
       "feat_3       0.907029\n",
       "feat_4       0.948074\n",
       "feat_5       0.852023\n",
       "feat_6       0.002803\n",
       "dtype: float64"
      ]
     },
     "execution_count": 13,
     "metadata": {},
     "output_type": "execute_result"
    }
   ],
   "source": [
    "model.pvalues"
   ]
  },
  {
   "cell_type": "code",
   "execution_count": 15,
   "metadata": {
    "id": "pnw0Nm2ztweC"
   },
   "outputs": [
    {
     "data": {
      "text/html": [
       "<table class=\"simpletable\">\n",
       "<caption>Generalized Linear Model Regression Results</caption>\n",
       "<tr>\n",
       "  <th>Dep. Variable:</th>         <td>label</td>      <th>  No. Observations:  </th>  <td>   284</td> \n",
       "</tr>\n",
       "<tr>\n",
       "  <th>Model:</th>                  <td>GLM</td>       <th>  Df Residuals:      </th>  <td>   276</td> \n",
       "</tr>\n",
       "<tr>\n",
       "  <th>Model Family:</th>        <td>Binomial</td>     <th>  Df Model:          </th>  <td>     7</td> \n",
       "</tr>\n",
       "<tr>\n",
       "  <th>Link Function:</th>         <td>logit</td>      <th>  Scale:             </th> <td>  1.0000</td>\n",
       "</tr>\n",
       "<tr>\n",
       "  <th>Method:</th>                <td>IRLS</td>       <th>  Log-Likelihood:    </th> <td> -116.39</td>\n",
       "</tr>\n",
       "<tr>\n",
       "  <th>Date:</th>            <td>Sat, 19 Jun 2021</td> <th>  Deviance:          </th> <td>  2.5442</td>\n",
       "</tr>\n",
       "<tr>\n",
       "  <th>Time:</th>                <td>18:22:44</td>     <th>  Pearson chi2:      </th>  <td>  2.52</td> \n",
       "</tr>\n",
       "<tr>\n",
       "  <th>No. Iterations:</th>          <td>4</td>        <th>                     </th>     <td> </td>   \n",
       "</tr>\n",
       "<tr>\n",
       "  <th>Covariance Type:</th>     <td>nonrobust</td>    <th>                     </th>     <td> </td>   \n",
       "</tr>\n",
       "</table>\n",
       "<table class=\"simpletable\">\n",
       "<tr>\n",
       "      <td></td>         <th>coef</th>     <th>std err</th>      <th>z</th>      <th>P>|z|</th>  <th>[0.025</th>    <th>0.975]</th>  \n",
       "</tr>\n",
       "<tr>\n",
       "  <th>Intercept</th> <td>   -2.0729</td> <td>    1.905</td> <td>   -1.088</td> <td> 0.277</td> <td>   -5.807</td> <td>    1.661</td>\n",
       "</tr>\n",
       "<tr>\n",
       "  <th>feat_0</th>    <td> 6.859e-06</td> <td> 8.05e-05</td> <td>    0.085</td> <td> 0.932</td> <td>   -0.000</td> <td>    0.000</td>\n",
       "</tr>\n",
       "<tr>\n",
       "  <th>feat_1</th>    <td>   -0.0062</td> <td>    0.011</td> <td>   -0.552</td> <td> 0.581</td> <td>   -0.028</td> <td>    0.016</td>\n",
       "</tr>\n",
       "<tr>\n",
       "  <th>feat_2</th>    <td>   -0.0008</td> <td>    0.014</td> <td>   -0.055</td> <td> 0.956</td> <td>   -0.029</td> <td>    0.027</td>\n",
       "</tr>\n",
       "<tr>\n",
       "  <th>feat_3</th>    <td>    0.0092</td> <td>    0.079</td> <td>    0.117</td> <td> 0.907</td> <td>   -0.146</td> <td>    0.164</td>\n",
       "</tr>\n",
       "<tr>\n",
       "  <th>feat_4</th>    <td>    0.0019</td> <td>    0.029</td> <td>    0.065</td> <td> 0.948</td> <td>   -0.055</td> <td>    0.059</td>\n",
       "</tr>\n",
       "<tr>\n",
       "  <th>feat_5</th>    <td>    0.0423</td> <td>    0.227</td> <td>    0.187</td> <td> 0.852</td> <td>   -0.403</td> <td>    0.487</td>\n",
       "</tr>\n",
       "<tr>\n",
       "  <th>feat_6</th>    <td>    0.0367</td> <td>    0.012</td> <td>    2.989</td> <td> 0.003</td> <td>    0.013</td> <td>    0.061</td>\n",
       "</tr>\n",
       "</table>"
      ],
      "text/plain": [
       "<class 'statsmodels.iolib.summary.Summary'>\n",
       "\"\"\"\n",
       "                 Generalized Linear Model Regression Results                  \n",
       "==============================================================================\n",
       "Dep. Variable:                  label   No. Observations:                  284\n",
       "Model:                            GLM   Df Residuals:                      276\n",
       "Model Family:                Binomial   Df Model:                            7\n",
       "Link Function:                  logit   Scale:                          1.0000\n",
       "Method:                          IRLS   Log-Likelihood:                -116.39\n",
       "Date:                Sat, 19 Jun 2021   Deviance:                       2.5442\n",
       "Time:                        18:22:44   Pearson chi2:                     2.52\n",
       "No. Iterations:                     4                                         \n",
       "Covariance Type:            nonrobust                                         \n",
       "==============================================================================\n",
       "                 coef    std err          z      P>|z|      [0.025      0.975]\n",
       "------------------------------------------------------------------------------\n",
       "Intercept     -2.0729      1.905     -1.088      0.277      -5.807       1.661\n",
       "feat_0      6.859e-06   8.05e-05      0.085      0.932      -0.000       0.000\n",
       "feat_1        -0.0062      0.011     -0.552      0.581      -0.028       0.016\n",
       "feat_2        -0.0008      0.014     -0.055      0.956      -0.029       0.027\n",
       "feat_3         0.0092      0.079      0.117      0.907      -0.146       0.164\n",
       "feat_4         0.0019      0.029      0.065      0.948      -0.055       0.059\n",
       "feat_5         0.0423      0.227      0.187      0.852      -0.403       0.487\n",
       "feat_6         0.0367      0.012      2.989      0.003       0.013       0.061\n",
       "==============================================================================\n",
       "\"\"\""
      ]
     },
     "execution_count": 15,
     "metadata": {},
     "output_type": "execute_result"
    }
   ],
   "source": [
    "model.summary()"
   ]
  },
  {
   "cell_type": "markdown",
   "metadata": {
    "id": "sXCkndGRm6Bz"
   },
   "source": [
    "> #### Task:\n",
    "- **Submit the predictions on the test dataset using your optimized model** <br/>\n",
    "    Submit a CSV file with a header row plus each of the test entries, each on its own line. \n",
    "\n",
    "The file (`submissions.csv`) should have exactly 1 column:\n",
    "\n",
    "Column | Description\n",
    ":---|:---\n",
    "`label`  | Label"
   ]
  },
  {
   "cell_type": "code",
   "execution_count": 16,
   "metadata": {
    "colab": {
     "base_uri": "https://localhost:8080/",
     "height": 204
    },
    "executionInfo": {
     "elapsed": 1193,
     "status": "ok",
     "timestamp": 1619527944020,
     "user": {
      "displayName": "Abhinav Gupta",
      "photoUrl": "https://lh3.googleusercontent.com/a-/AOh14GjBpiTimJbxMWFkdipjcGYSIUpGfIav82LSmCyTXw=s64",
      "userId": "04670585521629932433"
     },
     "user_tz": -330
    },
    "id": "m0UOiaNWnvL5",
    "outputId": "af2c41ef-8c1f-44c8-a8ad-3c059f299117"
   },
   "outputs": [
    {
     "data": {
      "text/html": [
       "<div>\n",
       "<style scoped>\n",
       "    .dataframe tbody tr th:only-of-type {\n",
       "        vertical-align: middle;\n",
       "    }\n",
       "\n",
       "    .dataframe tbody tr th {\n",
       "        vertical-align: top;\n",
       "    }\n",
       "\n",
       "    .dataframe thead th {\n",
       "        text-align: right;\n",
       "    }\n",
       "</style>\n",
       "<table border=\"1\" class=\"dataframe\">\n",
       "  <thead>\n",
       "    <tr style=\"text-align: right;\">\n",
       "      <th></th>\n",
       "      <th>feat_0</th>\n",
       "      <th>feat_1</th>\n",
       "      <th>feat_2</th>\n",
       "      <th>feat_3</th>\n",
       "      <th>feat_4</th>\n",
       "      <th>feat_5</th>\n",
       "      <th>feat_6</th>\n",
       "    </tr>\n",
       "  </thead>\n",
       "  <tbody>\n",
       "    <tr>\n",
       "      <th>0</th>\n",
       "      <td>637.0</td>\n",
       "      <td>21.01388</td>\n",
       "      <td>11.397420</td>\n",
       "      <td>15.15302</td>\n",
       "      <td>63.10153</td>\n",
       "      <td>4.172242</td>\n",
       "      <td>65.026667</td>\n",
       "    </tr>\n",
       "    <tr>\n",
       "      <th>1</th>\n",
       "      <td>17.0</td>\n",
       "      <td>55.93220</td>\n",
       "      <td>0.000000</td>\n",
       "      <td>12.75600</td>\n",
       "      <td>48.85596</td>\n",
       "      <td>6.406862</td>\n",
       "      <td>49.263158</td>\n",
       "    </tr>\n",
       "    <tr>\n",
       "      <th>2</th>\n",
       "      <td>420.0</td>\n",
       "      <td>57.00249</td>\n",
       "      <td>23.480660</td>\n",
       "      <td>14.00443</td>\n",
       "      <td>52.15526</td>\n",
       "      <td>4.382061</td>\n",
       "      <td>31.913043</td>\n",
       "    </tr>\n",
       "    <tr>\n",
       "      <th>3</th>\n",
       "      <td>889.0</td>\n",
       "      <td>69.00829</td>\n",
       "      <td>63.439070</td>\n",
       "      <td>15.01983</td>\n",
       "      <td>63.04099</td>\n",
       "      <td>3.748330</td>\n",
       "      <td>12.981998</td>\n",
       "    </tr>\n",
       "    <tr>\n",
       "      <th>4</th>\n",
       "      <td>154.0</td>\n",
       "      <td>23.35644</td>\n",
       "      <td>6.617647</td>\n",
       "      <td>13.59359</td>\n",
       "      <td>49.51303</td>\n",
       "      <td>4.638098</td>\n",
       "      <td>52.983240</td>\n",
       "    </tr>\n",
       "  </tbody>\n",
       "</table>\n",
       "</div>"
      ],
      "text/plain": [
       "   feat_0    feat_1     feat_2    feat_3    feat_4    feat_5     feat_6\n",
       "0   637.0  21.01388  11.397420  15.15302  63.10153  4.172242  65.026667\n",
       "1    17.0  55.93220   0.000000  12.75600  48.85596  6.406862  49.263158\n",
       "2   420.0  57.00249  23.480660  14.00443  52.15526  4.382061  31.913043\n",
       "3   889.0  69.00829  63.439070  15.01983  63.04099  3.748330  12.981998\n",
       "4   154.0  23.35644   6.617647  13.59359  49.51303  4.638098  52.983240"
      ]
     },
     "execution_count": 16,
     "metadata": {},
     "output_type": "execute_result"
    }
   ],
   "source": [
    "test = pd.read_csv('test.csv')\n",
    "test.head()"
   ]
  },
  {
   "cell_type": "code",
   "execution_count": 17,
   "metadata": {
    "id": "JvDjtDgQPf0B"
   },
   "outputs": [],
   "source": [
    "preds = model.predict(test)"
   ]
  },
  {
   "cell_type": "code",
   "execution_count": 18,
   "metadata": {},
   "outputs": [],
   "source": [
    "submission_df = pd.DataFrame({'label':preds})"
   ]
  },
  {
   "cell_type": "code",
   "execution_count": 19,
   "metadata": {},
   "outputs": [
    {
     "data": {
      "text/html": [
       "<div>\n",
       "<style scoped>\n",
       "    .dataframe tbody tr th:only-of-type {\n",
       "        vertical-align: middle;\n",
       "    }\n",
       "\n",
       "    .dataframe tbody tr th {\n",
       "        vertical-align: top;\n",
       "    }\n",
       "\n",
       "    .dataframe thead th {\n",
       "        text-align: right;\n",
       "    }\n",
       "</style>\n",
       "<table border=\"1\" class=\"dataframe\">\n",
       "  <thead>\n",
       "    <tr style=\"text-align: right;\">\n",
       "      <th></th>\n",
       "      <th>label</th>\n",
       "    </tr>\n",
       "  </thead>\n",
       "  <tbody>\n",
       "    <tr>\n",
       "      <th>0</th>\n",
       "      <td>0.648998</td>\n",
       "    </tr>\n",
       "    <tr>\n",
       "      <th>1</th>\n",
       "      <td>0.467634</td>\n",
       "    </tr>\n",
       "    <tr>\n",
       "      <th>2</th>\n",
       "      <td>0.298052</td>\n",
       "    </tr>\n",
       "    <tr>\n",
       "      <th>3</th>\n",
       "      <td>0.161023</td>\n",
       "    </tr>\n",
       "    <tr>\n",
       "      <th>4</th>\n",
       "      <td>0.534509</td>\n",
       "    </tr>\n",
       "    <tr>\n",
       "      <th>5</th>\n",
       "      <td>0.516332</td>\n",
       "    </tr>\n",
       "    <tr>\n",
       "      <th>6</th>\n",
       "      <td>0.533015</td>\n",
       "    </tr>\n",
       "    <tr>\n",
       "      <th>7</th>\n",
       "      <td>0.372849</td>\n",
       "    </tr>\n",
       "    <tr>\n",
       "      <th>8</th>\n",
       "      <td>0.437824</td>\n",
       "    </tr>\n",
       "    <tr>\n",
       "      <th>9</th>\n",
       "      <td>0.365212</td>\n",
       "    </tr>\n",
       "    <tr>\n",
       "      <th>10</th>\n",
       "      <td>0.537941</td>\n",
       "    </tr>\n",
       "    <tr>\n",
       "      <th>11</th>\n",
       "      <td>0.656630</td>\n",
       "    </tr>\n",
       "    <tr>\n",
       "      <th>12</th>\n",
       "      <td>0.293418</td>\n",
       "    </tr>\n",
       "    <tr>\n",
       "      <th>13</th>\n",
       "      <td>0.770854</td>\n",
       "    </tr>\n",
       "    <tr>\n",
       "      <th>14</th>\n",
       "      <td>0.626529</td>\n",
       "    </tr>\n",
       "    <tr>\n",
       "      <th>15</th>\n",
       "      <td>0.460556</td>\n",
       "    </tr>\n",
       "    <tr>\n",
       "      <th>16</th>\n",
       "      <td>0.272973</td>\n",
       "    </tr>\n",
       "    <tr>\n",
       "      <th>17</th>\n",
       "      <td>0.420029</td>\n",
       "    </tr>\n",
       "    <tr>\n",
       "      <th>18</th>\n",
       "      <td>0.212064</td>\n",
       "    </tr>\n",
       "    <tr>\n",
       "      <th>19</th>\n",
       "      <td>0.238362</td>\n",
       "    </tr>\n",
       "    <tr>\n",
       "      <th>20</th>\n",
       "      <td>0.348091</td>\n",
       "    </tr>\n",
       "    <tr>\n",
       "      <th>21</th>\n",
       "      <td>0.718230</td>\n",
       "    </tr>\n",
       "    <tr>\n",
       "      <th>22</th>\n",
       "      <td>0.425027</td>\n",
       "    </tr>\n",
       "    <tr>\n",
       "      <th>23</th>\n",
       "      <td>0.160570</td>\n",
       "    </tr>\n",
       "    <tr>\n",
       "      <th>24</th>\n",
       "      <td>0.256246</td>\n",
       "    </tr>\n",
       "    <tr>\n",
       "      <th>25</th>\n",
       "      <td>0.114786</td>\n",
       "    </tr>\n",
       "    <tr>\n",
       "      <th>26</th>\n",
       "      <td>0.333407</td>\n",
       "    </tr>\n",
       "    <tr>\n",
       "      <th>27</th>\n",
       "      <td>0.211716</td>\n",
       "    </tr>\n",
       "    <tr>\n",
       "      <th>28</th>\n",
       "      <td>0.294282</td>\n",
       "    </tr>\n",
       "  </tbody>\n",
       "</table>\n",
       "</div>"
      ],
      "text/plain": [
       "       label\n",
       "0   0.648998\n",
       "1   0.467634\n",
       "2   0.298052\n",
       "3   0.161023\n",
       "4   0.534509\n",
       "5   0.516332\n",
       "6   0.533015\n",
       "7   0.372849\n",
       "8   0.437824\n",
       "9   0.365212\n",
       "10  0.537941\n",
       "11  0.656630\n",
       "12  0.293418\n",
       "13  0.770854\n",
       "14  0.626529\n",
       "15  0.460556\n",
       "16  0.272973\n",
       "17  0.420029\n",
       "18  0.212064\n",
       "19  0.238362\n",
       "20  0.348091\n",
       "21  0.718230\n",
       "22  0.425027\n",
       "23  0.160570\n",
       "24  0.256246\n",
       "25  0.114786\n",
       "26  0.333407\n",
       "27  0.211716\n",
       "28  0.294282"
      ]
     },
     "execution_count": 19,
     "metadata": {},
     "output_type": "execute_result"
    }
   ],
   "source": [
    "submission_df"
   ]
  },
  {
   "cell_type": "code",
   "execution_count": 20,
   "metadata": {
    "id": "oo1BW2qnnzJj"
   },
   "outputs": [],
   "source": [
    "#Submission\n",
    "submission_df.to_csv('submissions.csv', index=False)"
   ]
  }
 ],
 "metadata": {
  "colab": {
   "authorship_tag": "ABX9TyPeimH63fxTJUvKqQ6fimMm",
   "collapsed_sections": [],
   "name": "Questions.ipynb",
   "provenance": [],
   "toc_visible": true
  },
  "kernelspec": {
   "display_name": "Python 3",
   "language": "python",
   "name": "python3"
  },
  "language_info": {
   "codemirror_mode": {
    "name": "ipython",
    "version": 3
   },
   "file_extension": ".py",
   "mimetype": "text/x-python",
   "name": "python",
   "nbconvert_exporter": "python",
   "pygments_lexer": "ipython3",
   "version": "3.8.8"
  }
 },
 "nbformat": 4,
 "nbformat_minor": 1
}
